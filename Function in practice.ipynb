{
 "cells": [
  {
   "cell_type": "code",
   "execution_count": null,
   "metadata": {},
   "outputs": [],
   "source": [
    "Topics:\n",
    "    function\n",
    "    function decleration\n",
    "    function body\n",
    "    function calling\n",
    "    \n",
    "pre define function\n",
    "    return function\n",
    "    non rerurn function\n",
    "    default function\n",
    "    required arguments\n",
    "    optional arguments\n",
    "user define function"
   ]
  },
  {
   "cell_type": "code",
   "execution_count": 2,
   "metadata": {},
   "outputs": [
    {
     "name": "stdout",
     "output_type": "stream",
     "text": [
      "pakistan zinda bad\n",
      "we are pakistani\n",
      "we love our country\n"
     ]
    }
   ],
   "source": [
    "print(\"pakistan zinda bad\")\n",
    "print(\"we are pakistani\")\n",
    "print(\"we love our country\")"
   ]
  },
  {
   "cell_type": "code",
   "execution_count": 3,
   "metadata": {},
   "outputs": [
    {
     "name": "stdout",
     "output_type": "stream",
     "text": [
      "pakistan zinda bad\n",
      "we are pakistani\n",
      "we love our country\n",
      "pakistan zinda bad\n",
      "we are pakistani\n",
      "we love our country\n"
     ]
    }
   ],
   "source": [
    "print(\"pakistan zinda bad\")\n",
    "print(\"we are pakistani\")\n",
    "print(\"we love our country\")\n",
    "\n",
    "print(\"pakistan zinda bad\")\n",
    "print(\"we are pakistani\")\n",
    "print(\"we love our country\")"
   ]
  },
  {
   "cell_type": "markdown",
   "metadata": {},
   "source": [
    "# Return Non Rerurn Function:"
   ]
  },
  {
   "cell_type": "code",
   "execution_count": 6,
   "metadata": {},
   "outputs": [
    {
     "name": "stdout",
     "output_type": "stream",
     "text": [
      "pakisitan\n",
      "None\n"
     ]
    }
   ],
   "source": [
    "a = print(\"pakisitan\") # Non Return function\n",
    "print(a)"
   ]
  },
  {
   "cell_type": "code",
   "execution_count": 14,
   "metadata": {},
   "outputs": [
    {
     "name": "stdout",
     "output_type": "stream",
     "text": [
      "pakistan zinda bad\n",
      "we are pakistani\n",
      "we love our country\n",
      "None\n"
     ]
    }
   ],
   "source": [
    "def abc(): # Function decleration\n",
    "    print(\"pakistan zinda bad\") # function body\n",
    "    print(\"we are pakistani\")\n",
    "    print(\"we love our country\") # function body\n",
    "    \n",
    "a = abc() # non Return function.\n",
    "print(a)"
   ]
  },
  {
   "cell_type": "code",
   "execution_count": 7,
   "metadata": {},
   "outputs": [
    {
     "name": "stdout",
     "output_type": "stream",
     "text": [
      "Enter any number20\n",
      "20\n"
     ]
    }
   ],
   "source": [
    "a = input(\"Enter any number\") # Return function\n",
    "print(a)"
   ]
  },
  {
   "cell_type": "code",
   "execution_count": 8,
   "metadata": {},
   "outputs": [
    {
     "data": {
      "text/plain": [
       "int"
      ]
     },
     "execution_count": 8,
     "metadata": {},
     "output_type": "execute_result"
    }
   ],
   "source": [
    "a = int(\"37\") # Return function\n",
    "type(a) # Return function"
   ]
  },
  {
   "cell_type": "markdown",
   "metadata": {},
   "source": [
    "# now Create Function"
   ]
  },
  {
   "cell_type": "code",
   "execution_count": 5,
   "metadata": {},
   "outputs": [
    {
     "name": "stdout",
     "output_type": "stream",
     "text": [
      "pakistan zinda bad\n",
      "we are pakistani\n",
      "we love our country\n",
      "===========\n",
      "Hello world!\n",
      "pakistan zinda bad\n",
      "we are pakistani\n",
      "we love our country\n"
     ]
    }
   ],
   "source": [
    "# we have created defualt user define function.\n",
    "\n",
    "def abc(): # Function decleration\n",
    "    print(\"pakistan zinda bad\") # function body\n",
    "    print(\"we are pakistani\")\n",
    "    print(\"we love our country\") # function body\n",
    "abc() # function calling\n",
    "print(\"===========\")\n",
    "print(\"Hello world!\")\n",
    "abc()"
   ]
  }
 ],
 "metadata": {
  "kernelspec": {
   "display_name": "Python 3",
   "language": "python",
   "name": "python3"
  },
  "language_info": {
   "codemirror_mode": {
    "name": "ipython",
    "version": 3
   },
   "file_extension": ".py",
   "mimetype": "text/x-python",
   "name": "python",
   "nbconvert_exporter": "python",
   "pygments_lexer": "ipython3",
   "version": "3.7.6"
  }
 },
 "nbformat": 4,
 "nbformat_minor": 4
}
